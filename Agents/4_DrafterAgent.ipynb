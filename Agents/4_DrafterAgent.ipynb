{
  "nbformat": 4,
  "nbformat_minor": 0,
  "metadata": {
    "colab": {
      "provenance": [],
      "authorship_tag": "ABX9TyPEG3+0tqxyL3GBIHnuwyvq",
      "include_colab_link": true
    },
    "kernelspec": {
      "name": "python3",
      "display_name": "Python 3"
    },
    "language_info": {
      "name": "python"
    }
  },
  "cells": [
    {
      "cell_type": "markdown",
      "metadata": {
        "id": "view-in-github",
        "colab_type": "text"
      },
      "source": [
        "<a href=\"https://colab.research.google.com/github/Funatlearn/langgraph101/blob/main/Agents/4_DrafterAgent.ipynb\" target=\"_parent\"><img src=\"https://colab.research.google.com/assets/colab-badge.svg\" alt=\"Open In Colab\"/></a>"
      ]
    },
    {
      "cell_type": "markdown",
      "source": [
        "# Boss's Orders\n",
        "\n",
        "Create AI Agentic System that can speed up drafting documents, emails, etc. Should have Human-AI collobartion (Human should be able to prvoide continuous feed), and should stop when Human is happy with the draft. The system should be fast and be able to save the drafts."
      ],
      "metadata": {
        "id": "QYuPfWrQPUnK"
      }
    },
    {
      "cell_type": "code",
      "source": [
        "# Fifth agent, to demonstrates conditional agent\n",
        "# This is exercide, not completed\n",
        "!pip install langgraph langchain_core langchain_openai langchain_groq"
      ],
      "metadata": {
        "colab": {
          "base_uri": "https://localhost:8080/"
        },
        "id": "dMPY5pKsu7p8",
        "outputId": "7ffaa100-03f0-4c96-c7ce-feba1b68b11b"
      },
      "execution_count": 1,
      "outputs": [
        {
          "output_type": "stream",
          "name": "stdout",
          "text": [
            "Collecting langgraph\n",
            "  Downloading langgraph-0.6.9-py3-none-any.whl.metadata (6.8 kB)\n",
            "Requirement already satisfied: langchain_core in /usr/local/lib/python3.12/dist-packages (0.3.77)\n",
            "Collecting langchain_openai\n",
            "  Downloading langchain_openai-0.3.35-py3-none-any.whl.metadata (2.4 kB)\n",
            "Collecting langchain_groq\n",
            "  Downloading langchain_groq-0.3.8-py3-none-any.whl.metadata (2.6 kB)\n",
            "Collecting langgraph-checkpoint<3.0.0,>=2.1.0 (from langgraph)\n",
            "  Downloading langgraph_checkpoint-2.1.2-py3-none-any.whl.metadata (4.2 kB)\n",
            "Collecting langgraph-prebuilt<0.7.0,>=0.6.0 (from langgraph)\n",
            "  Downloading langgraph_prebuilt-0.6.4-py3-none-any.whl.metadata (4.5 kB)\n",
            "Collecting langgraph-sdk<0.3.0,>=0.2.2 (from langgraph)\n",
            "  Downloading langgraph_sdk-0.2.9-py3-none-any.whl.metadata (1.5 kB)\n",
            "Requirement already satisfied: pydantic>=2.7.4 in /usr/local/lib/python3.12/dist-packages (from langgraph) (2.11.9)\n",
            "Requirement already satisfied: xxhash>=3.5.0 in /usr/local/lib/python3.12/dist-packages (from langgraph) (3.5.0)\n",
            "Requirement already satisfied: langsmith<1.0.0,>=0.3.45 in /usr/local/lib/python3.12/dist-packages (from langchain_core) (0.4.31)\n",
            "Requirement already satisfied: tenacity!=8.4.0,<10.0.0,>=8.1.0 in /usr/local/lib/python3.12/dist-packages (from langchain_core) (8.5.0)\n",
            "Requirement already satisfied: jsonpatch<2.0.0,>=1.33.0 in /usr/local/lib/python3.12/dist-packages (from langchain_core) (1.33)\n",
            "Requirement already satisfied: PyYAML<7.0.0,>=5.3.0 in /usr/local/lib/python3.12/dist-packages (from langchain_core) (6.0.3)\n",
            "Requirement already satisfied: typing-extensions<5.0.0,>=4.7.0 in /usr/local/lib/python3.12/dist-packages (from langchain_core) (4.15.0)\n",
            "Requirement already satisfied: packaging<26.0.0,>=23.2.0 in /usr/local/lib/python3.12/dist-packages (from langchain_core) (25.0)\n",
            "Collecting langchain_core\n",
            "  Downloading langchain_core-0.3.78-py3-none-any.whl.metadata (3.2 kB)\n",
            "Requirement already satisfied: openai<3.0.0,>=1.104.2 in /usr/local/lib/python3.12/dist-packages (from langchain_openai) (1.109.1)\n",
            "Requirement already satisfied: tiktoken<1.0.0,>=0.7.0 in /usr/local/lib/python3.12/dist-packages (from langchain_openai) (0.11.0)\n",
            "Collecting groq<1,>=0.30.0 (from langchain_groq)\n",
            "  Downloading groq-0.32.0-py3-none-any.whl.metadata (16 kB)\n",
            "Requirement already satisfied: anyio<5,>=3.5.0 in /usr/local/lib/python3.12/dist-packages (from groq<1,>=0.30.0->langchain_groq) (4.11.0)\n",
            "Requirement already satisfied: distro<2,>=1.7.0 in /usr/local/lib/python3.12/dist-packages (from groq<1,>=0.30.0->langchain_groq) (1.9.0)\n",
            "Requirement already satisfied: httpx<1,>=0.23.0 in /usr/local/lib/python3.12/dist-packages (from groq<1,>=0.30.0->langchain_groq) (0.28.1)\n",
            "Requirement already satisfied: sniffio in /usr/local/lib/python3.12/dist-packages (from groq<1,>=0.30.0->langchain_groq) (1.3.1)\n",
            "Requirement already satisfied: jsonpointer>=1.9 in /usr/local/lib/python3.12/dist-packages (from jsonpatch<2.0.0,>=1.33.0->langchain_core) (3.0.0)\n",
            "Collecting ormsgpack>=1.10.0 (from langgraph-checkpoint<3.0.0,>=2.1.0->langgraph)\n",
            "  Downloading ormsgpack-1.10.0-cp312-cp312-manylinux_2_17_x86_64.manylinux2014_x86_64.whl.metadata (43 kB)\n",
            "\u001b[2K     \u001b[90m━━━━━━━━━━━━━━━━━━━━━━━━━━━━━━━━━━━━━━━━\u001b[0m \u001b[32m43.7/43.7 kB\u001b[0m \u001b[31m1.5 MB/s\u001b[0m eta \u001b[36m0:00:00\u001b[0m\n",
            "\u001b[?25hRequirement already satisfied: orjson>=3.10.1 in /usr/local/lib/python3.12/dist-packages (from langgraph-sdk<0.3.0,>=0.2.2->langgraph) (3.11.3)\n",
            "Requirement already satisfied: requests-toolbelt>=1.0.0 in /usr/local/lib/python3.12/dist-packages (from langsmith<1.0.0,>=0.3.45->langchain_core) (1.0.0)\n",
            "Requirement already satisfied: requests>=2.0.0 in /usr/local/lib/python3.12/dist-packages (from langsmith<1.0.0,>=0.3.45->langchain_core) (2.32.4)\n",
            "Requirement already satisfied: zstandard>=0.23.0 in /usr/local/lib/python3.12/dist-packages (from langsmith<1.0.0,>=0.3.45->langchain_core) (0.25.0)\n",
            "Requirement already satisfied: jiter<1,>=0.4.0 in /usr/local/lib/python3.12/dist-packages (from openai<3.0.0,>=1.104.2->langchain_openai) (0.11.0)\n",
            "Requirement already satisfied: tqdm>4 in /usr/local/lib/python3.12/dist-packages (from openai<3.0.0,>=1.104.2->langchain_openai) (4.67.1)\n",
            "Requirement already satisfied: annotated-types>=0.6.0 in /usr/local/lib/python3.12/dist-packages (from pydantic>=2.7.4->langgraph) (0.7.0)\n",
            "Requirement already satisfied: pydantic-core==2.33.2 in /usr/local/lib/python3.12/dist-packages (from pydantic>=2.7.4->langgraph) (2.33.2)\n",
            "Requirement already satisfied: typing-inspection>=0.4.0 in /usr/local/lib/python3.12/dist-packages (from pydantic>=2.7.4->langgraph) (0.4.2)\n",
            "Requirement already satisfied: regex>=2022.1.18 in /usr/local/lib/python3.12/dist-packages (from tiktoken<1.0.0,>=0.7.0->langchain_openai) (2024.11.6)\n",
            "Requirement already satisfied: idna>=2.8 in /usr/local/lib/python3.12/dist-packages (from anyio<5,>=3.5.0->groq<1,>=0.30.0->langchain_groq) (3.10)\n",
            "Requirement already satisfied: certifi in /usr/local/lib/python3.12/dist-packages (from httpx<1,>=0.23.0->groq<1,>=0.30.0->langchain_groq) (2025.8.3)\n",
            "Requirement already satisfied: httpcore==1.* in /usr/local/lib/python3.12/dist-packages (from httpx<1,>=0.23.0->groq<1,>=0.30.0->langchain_groq) (1.0.9)\n",
            "Requirement already satisfied: h11>=0.16 in /usr/local/lib/python3.12/dist-packages (from httpcore==1.*->httpx<1,>=0.23.0->groq<1,>=0.30.0->langchain_groq) (0.16.0)\n",
            "Requirement already satisfied: charset_normalizer<4,>=2 in /usr/local/lib/python3.12/dist-packages (from requests>=2.0.0->langsmith<1.0.0,>=0.3.45->langchain_core) (3.4.3)\n",
            "Requirement already satisfied: urllib3<3,>=1.21.1 in /usr/local/lib/python3.12/dist-packages (from requests>=2.0.0->langsmith<1.0.0,>=0.3.45->langchain_core) (2.5.0)\n",
            "Downloading langgraph-0.6.9-py3-none-any.whl (156 kB)\n",
            "\u001b[2K   \u001b[90m━━━━━━━━━━━━━━━━━━━━━━━━━━━━━━━━━━━━━━━━\u001b[0m \u001b[32m156.3/156.3 kB\u001b[0m \u001b[31m6.3 MB/s\u001b[0m eta \u001b[36m0:00:00\u001b[0m\n",
            "\u001b[?25hDownloading langchain_openai-0.3.35-py3-none-any.whl (75 kB)\n",
            "\u001b[2K   \u001b[90m━━━━━━━━━━━━━━━━━━━━━━━━━━━━━━━━━━━━━━━━\u001b[0m \u001b[32m76.0/76.0 kB\u001b[0m \u001b[31m3.9 MB/s\u001b[0m eta \u001b[36m0:00:00\u001b[0m\n",
            "\u001b[?25hDownloading langchain_core-0.3.78-py3-none-any.whl (449 kB)\n",
            "\u001b[2K   \u001b[90m━━━━━━━━━━━━━━━━━━━━━━━━━━━━━━━━━━━━━━━━\u001b[0m \u001b[32m449.6/449.6 kB\u001b[0m \u001b[31m14.5 MB/s\u001b[0m eta \u001b[36m0:00:00\u001b[0m\n",
            "\u001b[?25hDownloading langchain_groq-0.3.8-py3-none-any.whl (16 kB)\n",
            "Downloading groq-0.32.0-py3-none-any.whl (135 kB)\n",
            "\u001b[2K   \u001b[90m━━━━━━━━━━━━━━━━━━━━━━━━━━━━━━━━━━━━━━━━\u001b[0m \u001b[32m135.4/135.4 kB\u001b[0m \u001b[31m4.9 MB/s\u001b[0m eta \u001b[36m0:00:00\u001b[0m\n",
            "\u001b[?25hDownloading langgraph_checkpoint-2.1.2-py3-none-any.whl (45 kB)\n",
            "\u001b[2K   \u001b[90m━━━━━━━━━━━━━━━━━━━━━━━━━━━━━━━━━━━━━━━━\u001b[0m \u001b[32m45.8/45.8 kB\u001b[0m \u001b[31m1.6 MB/s\u001b[0m eta \u001b[36m0:00:00\u001b[0m\n",
            "\u001b[?25hDownloading langgraph_prebuilt-0.6.4-py3-none-any.whl (28 kB)\n",
            "Downloading langgraph_sdk-0.2.9-py3-none-any.whl (56 kB)\n",
            "\u001b[2K   \u001b[90m━━━━━━━━━━━━━━━━━━━━━━━━━━━━━━━━━━━━━━━━\u001b[0m \u001b[32m56.8/56.8 kB\u001b[0m \u001b[31m2.5 MB/s\u001b[0m eta \u001b[36m0:00:00\u001b[0m\n",
            "\u001b[?25hDownloading ormsgpack-1.10.0-cp312-cp312-manylinux_2_17_x86_64.manylinux2014_x86_64.whl (216 kB)\n",
            "\u001b[2K   \u001b[90m━━━━━━━━━━━━━━━━━━━━━━━━━━━━━━━━━━━━━━━━\u001b[0m \u001b[32m216.7/216.7 kB\u001b[0m \u001b[31m9.9 MB/s\u001b[0m eta \u001b[36m0:00:00\u001b[0m\n",
            "\u001b[?25hInstalling collected packages: ormsgpack, langgraph-sdk, groq, langchain_core, langgraph-checkpoint, langchain_openai, langchain_groq, langgraph-prebuilt, langgraph\n",
            "  Attempting uninstall: langchain_core\n",
            "    Found existing installation: langchain-core 0.3.77\n",
            "    Uninstalling langchain-core-0.3.77:\n",
            "      Successfully uninstalled langchain-core-0.3.77\n",
            "Successfully installed groq-0.32.0 langchain_core-0.3.78 langchain_groq-0.3.8 langchain_openai-0.3.35 langgraph-0.6.9 langgraph-checkpoint-2.1.2 langgraph-prebuilt-0.6.4 langgraph-sdk-0.2.9 ormsgpack-1.10.0\n"
          ]
        }
      ]
    },
    {
      "cell_type": "code",
      "execution_count": 2,
      "metadata": {
        "id": "iqQzMZCotW25"
      },
      "outputs": [],
      "source": [
        "\n",
        "from typing import TypedDict, Annotated, Sequence\n",
        "from langchain_core.messages import BaseMessage, HumanMessage, AIMessage, ToolMessage, SystemMessage # Base - foundational class for all messages, Tool -> passes data back to LLM after it calls a tool, System -> provide instruction to LLM\n",
        "from langchain_openai import ChatOpenAI\n",
        "from langchain_core.tools import tool\n",
        "from langgraph.graph.message import add_messages\n",
        "from langgraph.graph import StateGraph, START, END # graph\n",
        "from langgraph.prebuilt import ToolNode\n",
        "from dotenv import load_dotenv\n",
        "from langchain_groq import ChatGroq\n",
        "import os\n",
        "from google.colab import userdata\n",
        "\n"
      ]
    },
    {
      "cell_type": "code",
      "source": [
        "load_dotenv()"
      ],
      "metadata": {
        "id": "JUSVyivMTrIN",
        "outputId": "f40b4856-8dfe-4baa-d983-6924e3209822",
        "colab": {
          "base_uri": "https://localhost:8080/"
        }
      },
      "execution_count": 3,
      "outputs": [
        {
          "output_type": "execute_result",
          "data": {
            "text/plain": [
              "False"
            ]
          },
          "metadata": {},
          "execution_count": 3
        }
      ]
    },
    {
      "cell_type": "code",
      "source": [],
      "metadata": {
        "id": "U1u_Tnbm97rK"
      },
      "execution_count": null,
      "outputs": []
    },
    {
      "cell_type": "code",
      "source": [
        "# This is global variable to store document content\n",
        "document_content = \"\"\n",
        "\n",
        "class AgentState(TypedDict):\n",
        "  messages: Annotated[Sequence[BaseMessage], add_messages]\n",
        "\n",
        "\n",
        "@tool\n",
        "def update(content: str) -> str:\n",
        "  \"\"\"Updates the document with provided content.\"\"\"\n",
        "  global document_content\n",
        "  document_content += content\n",
        "  return f\"Document has been updated successfully!. The current content is :\\n{document_content}\"\n",
        "\n",
        "@tool\n",
        "def save(filename: str) -> str:\n",
        "  \"\"\"Save the current document to text file and finish the process.\"\"\"\n",
        "\n",
        "  if not filename.endswith(\".txt\"):\n",
        "    filename += \".txt\"\n",
        "\n",
        "  try:\n",
        "    with open(filename, \"w\") as f:\n",
        "      f.write(document_content)\n",
        "    print(f\"\\n Document has been saved to: {filename}\")\n",
        "    return f\"Document has been saved successfully to {filename}.\"\n",
        "  except Exception as e:\n",
        "    return f\"Error saving document:{str(e)}\"\n",
        "\n",
        "\n",
        "  return f\"Document has been updated successfully!. The current content is :\\n{document_content}\"\n",
        "\n",
        "tools = [update, save]\n",
        "\n",
        "\n",
        "model = ChatGroq(\n",
        "    model=\"llama-3.1-8b-instant\",\n",
        "    api_key=userdata.get('GROK_KEY')\n",
        ").bind_tools(tools)\n",
        "\n",
        "\n",
        "def our_agent(state: AgentState) -> AgentState:\n",
        "  system_prompt = SystemMessage(content=f\"\"\"\n",
        "    You are Drafter, a helpful writing assistent. You are going to help the user update and modify documents.\n",
        "    - If the user wants to update or modify content, use the update tool with complete updated content\n",
        "    - If the user wants to save and finish, you need to use the save tool\n",
        "    - Make sure to always show current document after modification.\n",
        "\n",
        "    The current document content is : {document_content}\n",
        "  \"\"\")\n",
        "\n",
        "  if not state[\"messages\"]:\n",
        "        user_input = \"I'm ready to help you update a document. What would you like to create?\"\n",
        "        user_message = HumanMessage(content=user_input)\n",
        "\n",
        "  else:\n",
        "        user_input = input(\"\\nWhat would you like to do with the document? \")\n",
        "        print(f\"\\n👤 USER: {user_input}\")\n",
        "        user_message = HumanMessage(content=user_input)\n",
        "\n",
        "\n",
        "  all_messages = [system_prompt]+ list(state[\"messages\"])+ [user_message]\n",
        "\n",
        "  response = model.invoke(all_messages)\n",
        "\n",
        "  print(f\"\\nASSISTANT: {response.content}\")\n",
        "  if hasattr(response, \"tool_calls\") and response.tool_calls:\n",
        "        print(f\"🔧 USING TOOLS: {[tc['name'] for tc in response.tool_calls]}\")\n",
        "\n",
        "  return {\"messages\": list(state['messages'])+ [user_message, response]}\n",
        "\n",
        "def model_call(state:AgentState) -> AgentState:\n",
        "    system_prompt = SystemMessage(content=\n",
        "        \"You are my AI assistant, please answer my query to the best of your ability.\"\n",
        "    )\n",
        "    response = model.invoke([system_prompt] + state[\"messages\"])\n",
        "    return {\"messages\": [response]}\n",
        "\n",
        "def should_continue(state: AgentState):\n",
        "    messages = state[\"messages\"]\n",
        "\n",
        "    if not messages:\n",
        "        return \"continue\"\n",
        "\n",
        "        # This looks for the most recent tool message...\n",
        "    for message in reversed(messages):\n",
        "      # ... and checks if this is a ToolMessage resulting from save\n",
        "      if(isinstance(message, ToolMessage) and\n",
        "         \"saved\" in message.content.lower() and\n",
        "         \"document\" in message.content.lower()\n",
        "         ):\n",
        "        return \"end\" # goes to end edge which leads to endpoint\n",
        "\n",
        "\n",
        "    return \"continue\"\n",
        "\n"
      ],
      "metadata": {
        "id": "kF8KkZWMupEV"
      },
      "execution_count": 15,
      "outputs": []
    },
    {
      "cell_type": "code",
      "source": [
        "graph = StateGraph(AgentState)\n",
        "\n",
        "graph.add_node(\"agent\", our_agent)\n",
        "graph.add_node(\"tools\", ToolNode(tools))\n",
        "\n",
        "graph.set_entry_point(\"agent\")\n",
        "\n",
        "graph.add_edge(\"agent\", \"tools\")\n",
        "\n",
        "\n",
        "graph.add_conditional_edges(\n",
        "    \"tools\",\n",
        "    should_continue,\n",
        "    {\n",
        "        \"continue\": \"agent\",\n",
        "        \"end\": END,\n",
        "    },\n",
        ")\n",
        "\n",
        "app = graph.compile()"
      ],
      "metadata": {
        "id": "GD1qdcVH4unD"
      },
      "execution_count": 16,
      "outputs": []
    },
    {
      "cell_type": "code",
      "source": [
        "def print_messages(messages):\n",
        "  if not messages:\n",
        "    return\n",
        "    for s in messages[-3:]:\n",
        "        message = s[\"messages\"][-1]\n",
        "        if isinstance(message, ToolMessage  ):\n",
        "            print(f\"Tool RESULT: {message.content}\")\n"
      ],
      "metadata": {
        "id": "G0YKCIKHCky1"
      },
      "execution_count": 17,
      "outputs": []
    },
    {
      "cell_type": "code",
      "source": [
        "# display graph\n",
        "from IPython.display import Image, display\n",
        "display(Image(app.get_graph().draw_mermaid_png()))"
      ],
      "metadata": {
        "colab": {
          "base_uri": "https://localhost:8080/",
          "height": 398
        },
        "id": "I3fnIAS48Njw",
        "outputId": "8f47129e-6637-4033-f868-9ac823ad4596"
      },
      "execution_count": 18,
      "outputs": [
        {
          "output_type": "display_data",
          "data": {
            "image/png": "[encoded data removed]",
            "text/plain": [
              "<IPython.core.display.Image object>"
            ]
          },
          "metadata": {}
        }
      ]
    },
    {
      "cell_type": "code",
      "source": [
        "# Run document_agent\n",
        "def run_document_agent():\n",
        "    print(\"\\n ===== DRAFTER =====\")\n",
        "\n",
        "    state = {\"messages\": []}\n",
        "\n",
        "    for step in app.stream(state, stream_mode=\"values\"):\n",
        "        if \"messages\" in step:\n",
        "            print_messages(step[\"messages\"])\n",
        "\n",
        "    print(\"\\n ===== DRAFTER FINISHED =====\")"
      ],
      "metadata": {
        "id": "fge5jXnSZhOs"
      },
      "execution_count": 19,
      "outputs": []
    },
    {
      "cell_type": "code",
      "source": [
        "    run_document_agent()"
      ],
      "metadata": {
        "id": "ghTZAbU4ZxWY",
        "outputId": "fbc2b468-cbe4-49d2-a0c6-e6ca6c974c5a",
        "colab": {
          "base_uri": "https://localhost:8080/"
        }
      },
      "execution_count": 20,
      "outputs": [
        {
          "output_type": "stream",
          "name": "stdout",
          "text": [
            "\n",
            " ===== DRAFTER =====\n",
            "\n",
            "ASSISTANT: The current document content is: \"This is a new document that we will be working on. It will contain various sections and information that we will add later.\"\n",
            "\n",
            "Would you like to update or modify the content?\n",
            "\n",
            "What would you like to do with the document? hello world\n",
            "\n",
            "👤 USER: hello world\n",
            "\n",
            "ASSISTANT: The current document content is: \"hello world\"\n",
            "\n",
            "\n",
            "🔧 USING TOOLS: ['update']\n",
            "\n",
            "What would you like to do with the document? save\n",
            "\n",
            "👤 USER: save\n",
            "\n",
            "ASSISTANT: \n",
            "🔧 USING TOOLS: ['save']\n",
            "\n",
            " Document has been saved to: document.txt\n",
            "\n",
            " ===== DRAFTER FINISHED =====\n"
          ]
        }
      ]
    }
  ]
}