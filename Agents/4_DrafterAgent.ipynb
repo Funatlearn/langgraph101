{
  "nbformat": 4,
  "nbformat_minor": 0,
  "metadata": {
    "colab": {
      "provenance": [],
      "authorship_tag": "ABX9TyNERYCE5lsQCAahgPdQjkpa",
      "include_colab_link": true
    },
    "kernelspec": {
      "name": "python3",
      "display_name": "Python 3"
    },
    "language_info": {
      "name": "python"
    }
  },
  "cells": [
    {
      "cell_type": "markdown",
      "metadata": {
        "id": "view-in-github",
        "colab_type": "text"
      },
      "source": [
        "<a href=\"https://colab.research.google.com/github/Funatlearn/langgraph101/blob/main/Agents/4_DrafterAgent.ipynb\" target=\"_parent\"><img src=\"https://colab.research.google.com/assets/colab-badge.svg\" alt=\"Open In Colab\"/></a>"
      ]
    },
    {
      "cell_type": "markdown",
      "source": [
        "# ReAct Agent\n",
        "\n",
        "Objectives:\n",
        "1. Learn how to create Tools in LangGraph\n",
        "2. How to create ReAct Graph\n",
        "3. Work wiht different types of Messages such as ToolMessages\n",
        "4. Test out robustness of our graph\n",
        "Main Goal: Create a robust ReAct agent"
      ],
      "metadata": {
        "id": "QYuPfWrQPUnK"
      }
    },
    {
      "cell_type": "code",
      "source": [
        "# Fifth agent, to demonstrates conditional agent\n",
        "# This is exercide, not completed\n",
        "!pip install langgraph langchain_core langchain_openai langchain_groq"
      ],
      "metadata": {
        "colab": {
          "base_uri": "https://localhost:8080/"
        },
        "id": "dMPY5pKsu7p8",
        "outputId": "93e71f14-9c62-4a59-90bc-e0a44b69278f"
      },
      "execution_count": 31,
      "outputs": [
        {
          "output_type": "stream",
          "name": "stdout",
          "text": [
            "Requirement already satisfied: langgraph in /usr/local/lib/python3.12/dist-packages (0.6.9)\n",
            "Requirement already satisfied: langchain_core in /usr/local/lib/python3.12/dist-packages (0.3.78)\n",
            "Requirement already satisfied: langchain_openai in /usr/local/lib/python3.12/dist-packages (0.3.35)\n",
            "Collecting langchain_groq\n",
            "  Downloading langchain_groq-0.3.8-py3-none-any.whl.metadata (2.6 kB)\n",
            "Requirement already satisfied: langgraph-checkpoint<3.0.0,>=2.1.0 in /usr/local/lib/python3.12/dist-packages (from langgraph) (2.1.2)\n",
            "Requirement already satisfied: langgraph-prebuilt<0.7.0,>=0.6.0 in /usr/local/lib/python3.12/dist-packages (from langgraph) (0.6.4)\n",
            "Requirement already satisfied: langgraph-sdk<0.3.0,>=0.2.2 in /usr/local/lib/python3.12/dist-packages (from langgraph) (0.2.9)\n",
            "Requirement already satisfied: pydantic>=2.7.4 in /usr/local/lib/python3.12/dist-packages (from langgraph) (2.11.9)\n",
            "Requirement already satisfied: xxhash>=3.5.0 in /usr/local/lib/python3.12/dist-packages (from langgraph) (3.5.0)\n",
            "Requirement already satisfied: langsmith<1.0.0,>=0.3.45 in /usr/local/lib/python3.12/dist-packages (from langchain_core) (0.4.31)\n",
            "Requirement already satisfied: tenacity!=8.4.0,<10.0.0,>=8.1.0 in /usr/local/lib/python3.12/dist-packages (from langchain_core) (8.5.0)\n",
            "Requirement already satisfied: jsonpatch<2.0.0,>=1.33.0 in /usr/local/lib/python3.12/dist-packages (from langchain_core) (1.33)\n",
            "Requirement already satisfied: PyYAML<7.0.0,>=5.3.0 in /usr/local/lib/python3.12/dist-packages (from langchain_core) (6.0.3)\n",
            "Requirement already satisfied: typing-extensions<5.0.0,>=4.7.0 in /usr/local/lib/python3.12/dist-packages (from langchain_core) (4.15.0)\n",
            "Requirement already satisfied: packaging<26.0.0,>=23.2.0 in /usr/local/lib/python3.12/dist-packages (from langchain_core) (25.0)\n",
            "Requirement already satisfied: openai<3.0.0,>=1.104.2 in /usr/local/lib/python3.12/dist-packages (from langchain_openai) (1.109.1)\n",
            "Requirement already satisfied: tiktoken<1.0.0,>=0.7.0 in /usr/local/lib/python3.12/dist-packages (from langchain_openai) (0.11.0)\n",
            "Collecting groq<1,>=0.30.0 (from langchain_groq)\n",
            "  Downloading groq-0.32.0-py3-none-any.whl.metadata (16 kB)\n",
            "Requirement already satisfied: anyio<5,>=3.5.0 in /usr/local/lib/python3.12/dist-packages (from groq<1,>=0.30.0->langchain_groq) (4.11.0)\n",
            "Requirement already satisfied: distro<2,>=1.7.0 in /usr/local/lib/python3.12/dist-packages (from groq<1,>=0.30.0->langchain_groq) (1.9.0)\n",
            "Requirement already satisfied: httpx<1,>=0.23.0 in /usr/local/lib/python3.12/dist-packages (from groq<1,>=0.30.0->langchain_groq) (0.28.1)\n",
            "Requirement already satisfied: sniffio in /usr/local/lib/python3.12/dist-packages (from groq<1,>=0.30.0->langchain_groq) (1.3.1)\n",
            "Requirement already satisfied: jsonpointer>=1.9 in /usr/local/lib/python3.12/dist-packages (from jsonpatch<2.0.0,>=1.33.0->langchain_core) (3.0.0)\n",
            "Requirement already satisfied: ormsgpack>=1.10.0 in /usr/local/lib/python3.12/dist-packages (from langgraph-checkpoint<3.0.0,>=2.1.0->langgraph) (1.10.0)\n",
            "Requirement already satisfied: orjson>=3.10.1 in /usr/local/lib/python3.12/dist-packages (from langgraph-sdk<0.3.0,>=0.2.2->langgraph) (3.11.3)\n",
            "Requirement already satisfied: requests-toolbelt>=1.0.0 in /usr/local/lib/python3.12/dist-packages (from langsmith<1.0.0,>=0.3.45->langchain_core) (1.0.0)\n",
            "Requirement already satisfied: requests>=2.0.0 in /usr/local/lib/python3.12/dist-packages (from langsmith<1.0.0,>=0.3.45->langchain_core) (2.32.4)\n",
            "Requirement already satisfied: zstandard>=0.23.0 in /usr/local/lib/python3.12/dist-packages (from langsmith<1.0.0,>=0.3.45->langchain_core) (0.25.0)\n",
            "Requirement already satisfied: jiter<1,>=0.4.0 in /usr/local/lib/python3.12/dist-packages (from openai<3.0.0,>=1.104.2->langchain_openai) (0.11.0)\n",
            "Requirement already satisfied: tqdm>4 in /usr/local/lib/python3.12/dist-packages (from openai<3.0.0,>=1.104.2->langchain_openai) (4.67.1)\n",
            "Requirement already satisfied: annotated-types>=0.6.0 in /usr/local/lib/python3.12/dist-packages (from pydantic>=2.7.4->langgraph) (0.7.0)\n",
            "Requirement already satisfied: pydantic-core==2.33.2 in /usr/local/lib/python3.12/dist-packages (from pydantic>=2.7.4->langgraph) (2.33.2)\n",
            "Requirement already satisfied: typing-inspection>=0.4.0 in /usr/local/lib/python3.12/dist-packages (from pydantic>=2.7.4->langgraph) (0.4.2)\n",
            "Requirement already satisfied: regex>=2022.1.18 in /usr/local/lib/python3.12/dist-packages (from tiktoken<1.0.0,>=0.7.0->langchain_openai) (2024.11.6)\n",
            "Requirement already satisfied: idna>=2.8 in /usr/local/lib/python3.12/dist-packages (from anyio<5,>=3.5.0->groq<1,>=0.30.0->langchain_groq) (3.10)\n",
            "Requirement already satisfied: certifi in /usr/local/lib/python3.12/dist-packages (from httpx<1,>=0.23.0->groq<1,>=0.30.0->langchain_groq) (2025.8.3)\n",
            "Requirement already satisfied: httpcore==1.* in /usr/local/lib/python3.12/dist-packages (from httpx<1,>=0.23.0->groq<1,>=0.30.0->langchain_groq) (1.0.9)\n",
            "Requirement already satisfied: h11>=0.16 in /usr/local/lib/python3.12/dist-packages (from httpcore==1.*->httpx<1,>=0.23.0->groq<1,>=0.30.0->langchain_groq) (0.16.0)\n",
            "Requirement already satisfied: charset_normalizer<4,>=2 in /usr/local/lib/python3.12/dist-packages (from requests>=2.0.0->langsmith<1.0.0,>=0.3.45->langchain_core) (3.4.3)\n",
            "Requirement already satisfied: urllib3<3,>=1.21.1 in /usr/local/lib/python3.12/dist-packages (from requests>=2.0.0->langsmith<1.0.0,>=0.3.45->langchain_core) (2.5.0)\n",
            "Downloading langchain_groq-0.3.8-py3-none-any.whl (16 kB)\n",
            "Downloading groq-0.32.0-py3-none-any.whl (135 kB)\n",
            "\u001b[2K   \u001b[90m━━━━━━━━━━━━━━━━━━━━━━━━━━━━━━━━━━━━━━━━\u001b[0m \u001b[32m135.4/135.4 kB\u001b[0m \u001b[31m3.2 MB/s\u001b[0m eta \u001b[36m0:00:00\u001b[0m\n",
            "\u001b[?25hInstalling collected packages: groq, langchain_groq\n",
            "Successfully installed groq-0.32.0 langchain_groq-0.3.8\n"
          ]
        }
      ]
    },
    {
      "cell_type": "code",
      "execution_count": 32,
      "metadata": {
        "id": "iqQzMZCotW25"
      },
      "outputs": [],
      "source": [
        "\n",
        "from typing import TypedDict, Annotated, Sequence\n",
        "from langchain_core.messages import BaseMessage, ToolMessage, SystemMessage # Base - foundational class for all messages, Tool -> passes data back to LLM after it calls a tool, System -> provide instruction to LLM\n",
        "from langchain_openai import ChatOpenAI\n",
        "from langchain_core.tools import tool\n",
        "from langgraph.graph.message import add_messages\n",
        "from langgraph.graph import StateGraph, START, END # graph\n",
        "from langgraph.prebuilt import ToolNode\n",
        "from dotenv import load_dotenv\n",
        "from langchain_groq import ChatGroq\n",
        "import os\n",
        "from google.colab import userdata\n",
        "\n"
      ]
    },
    {
      "cell_type": "code",
      "source": [
        "load_dotenv()"
      ],
      "metadata": {
        "id": "JUSVyivMTrIN",
        "outputId": "20d94871-86fb-4716-9871-79ebbf844480",
        "colab": {
          "base_uri": "https://localhost:8080/"
        }
      },
      "execution_count": 4,
      "outputs": [
        {
          "output_type": "execute_result",
          "data": {
            "text/plain": [
              "False"
            ]
          },
          "metadata": {},
          "execution_count": 4
        }
      ]
    },
    {
      "cell_type": "code",
      "source": [
        "# Reducer function\n",
        "# Rule that controls how updates from nodes are combined with the existing state.\n",
        "# Tell us how to merge data into new state\n",
        "\n",
        "# Without reducer, updates would have replaced the existing value entirely!"
      ],
      "metadata": {
        "id": "U1u_Tnbm97rK"
      },
      "execution_count": null,
      "outputs": []
    },
    {
      "cell_type": "code",
      "source": [
        "class AgentState(TypedDict):\n",
        "  messages: Annotated[Sequence[BaseMessage], add_messages]\n",
        "\n",
        "\n",
        "@tool\n",
        "def add(a:int , b:int):\n",
        "    \"\"\"This is addition function to add 2 numbers\"\"\"\n",
        "    return a+ b\n",
        "\n",
        "@tool\n",
        "def subtract(a: int, b: int):\n",
        "    \"\"\"Subtraction function\"\"\"\n",
        "    return a - b\n",
        "\n",
        "@tool\n",
        "def multiply(a: int, b: int):\n",
        "    \"\"\"Multiplication function\"\"\"\n",
        "    return a * b\n",
        "tools = [add, subtract, multiply]\n",
        "\n",
        "# sk-c5a2bcb9ddf7475d8498eb56a47a9e5a\n",
        "\n",
        "#model = ChatOpenAI(model=\"gpt-4o\", api_key = userdata.get('OPEN_API_KEY')  ).bind_tools(tools)\n",
        "# Initialize DeepSeek model\n",
        "# model = ChatOpenAI(\n",
        "#     model=\"deepseek-chat\",  # or \"deepseek-coder\" for coding tasks\n",
        "#     api_key=\"sk-c5a2bcb9ddf7475d8498eb56a47a9e5a\",  # Replace with your actual DeepSeek API key\n",
        "#     base_url=\"https://api.deepseek.com/v1\",  # DeepSeek API endpoint\n",
        "#     temperature=0  # Optional: for more deterministic responses\n",
        "# ).bind_tools(tools)\n",
        "\n",
        "model = ChatGroq(\n",
        "    model=\"llama-3.1-8b-instant\",\n",
        "    api_key=userdata.get('GROK_KEY')\n",
        ").bind_tools(tools)\n",
        "\n",
        "\n",
        "def model_call(state:AgentState) -> AgentState:\n",
        "    system_prompt = SystemMessage(content=\n",
        "        \"You are my AI assistant, please answer my query to the best of your ability.\"\n",
        "    )\n",
        "    response = model.invoke([system_prompt] + state[\"messages\"])\n",
        "    return {\"messages\": [response]}\n",
        "\n",
        "def should_continue(state: AgentState):\n",
        "    messages = state[\"messages\"]\n",
        "    last_message = messages[-1]\n",
        "    if not last_message.tool_calls:\n",
        "        return \"end\"\n",
        "    else:\n",
        "        return \"continue\"\n",
        "\n"
      ],
      "metadata": {
        "id": "kF8KkZWMupEV"
      },
      "execution_count": 47,
      "outputs": []
    },
    {
      "cell_type": "code",
      "source": [
        "graph = StateGraph(AgentState)\n",
        "\n",
        "graph.add_node(\"our_agent\", model_call)\n",
        "graph.set_entry_point(\"our_agent\")\n",
        "\n",
        "\n",
        "tool_node = ToolNode(tools = tools)\n",
        "graph.add_node(\"tools\", tool_node)\n",
        "\n",
        "\n",
        "graph.add_conditional_edges(\"our_agent\",  should_continue, {\n",
        "    \"continue\": \"tools\",\n",
        "    \"end\": END\n",
        "})\n",
        "\n",
        "graph.add_edge(\"tools\", \"our_agent\")\n",
        "\n",
        "\n",
        "agent = graph.compile()\n",
        "\n",
        "conversation_history = []"
      ],
      "metadata": {
        "id": "GD1qdcVH4unD"
      },
      "execution_count": 48,
      "outputs": []
    },
    {
      "cell_type": "code",
      "source": [
        "def print_stream(stream):\n",
        "    for s in stream:\n",
        "        message = s[\"messages\"][-1]\n",
        "        if isinstance(message, tuple):\n",
        "            print(message)\n",
        "        else:\n",
        "            message.pretty_print()"
      ],
      "metadata": {
        "id": "G0YKCIKHCky1"
      },
      "execution_count": 41,
      "outputs": []
    },
    {
      "cell_type": "code",
      "source": [
        "# display graph\n",
        "from IPython.display import Image, display\n",
        "display(Image(agent.get_graph().draw_mermaid_png()))"
      ],
      "metadata": {
        "colab": {
          "base_uri": "https://localhost:8080/",
          "height": 290
        },
        "id": "I3fnIAS48Njw",
        "outputId": "ea624163-5c4f-49f7-91c9-2ef96d5d6312"
      },
      "execution_count": 37,
      "outputs": [
        {
          "output_type": "display_data",
          "data": {
            "image/png": "[encoded data removed]",
            "text/plain": [
              "<IPython.core.display.Image object>"
            ]
          },
          "metadata": {}
        }
      ]
    },
    {
      "cell_type": "code",
      "source": [
        "inputs = {\"messages\": [(\"user\",\"Add 40+12 and then multiply the result by 6. Also tell me a joke please\")]}\n",
        "print_stream(agent.stream(inputs, stream_mode=\"values\"))\n",
        "# inputs = {\"messages\": [(\"user\", \"Add 40 + 12 and then multiply the result by 6. Also tell me a joke please.\")]}\n",
        "# print_stream(app.stream(inputs, stream_mode=\"values\"))"
      ],
      "metadata": {
        "colab": {
          "base_uri": "https://localhost:8080/"
        },
        "id": "CgE23Eqc8mPW",
        "outputId": "e7fd2c55-9ba3-4cf8-a599-a20f10b2fbf4"
      },
      "execution_count": 49,
      "outputs": [
        {
          "output_type": "stream",
          "name": "stdout",
          "text": [
            "================================\u001b[1m Human Message \u001b[0m=================================\n",
            "\n",
            "Add 40+12 and then multiply the result by 6. Also tell me a joke please\n",
            "==================================\u001b[1m Ai Message \u001b[0m==================================\n",
            "Tool Calls:\n",
            "  add (zggwjqesw)\n",
            " Call ID: zggwjqesw\n",
            "  Args:\n",
            "    a: 40\n",
            "    b: 12\n",
            "  multiply (0p8v46kny)\n",
            " Call ID: 0p8v46kny\n",
            "  Args:\n",
            "    a: 52\n",
            "    b: 6\n",
            "=================================\u001b[1m Tool Message \u001b[0m=================================\n",
            "Name: multiply\n",
            "\n",
            "312\n",
            "==================================\u001b[1m Ai Message \u001b[0m==================================\n",
            "\n",
            "Here's a joke for you:\n",
            "\n",
            "Why couldn't the bicycle stand up by itself?\n",
            "\n",
            "Because it was two-tired!\n"
          ]
        }
      ]
    }
  ]
}